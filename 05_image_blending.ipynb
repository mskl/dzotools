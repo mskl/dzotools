{
 "cells": [
  {
   "cell_type": "code",
   "execution_count": null,
   "id": "twenty-kelly",
   "metadata": {},
   "outputs": [],
   "source": [
    "# default_exp image_blending"
   ]
  },
  {
   "cell_type": "markdown",
   "id": "arranged-shepherd",
   "metadata": {},
   "source": [
    "# Image Blending"
   ]
  },
  {
   "cell_type": "markdown",
   "id": "prescribed-commander",
   "metadata": {},
   "source": [
    "# Task 5: Image blending in gradient area\n",
    "> whatisit\n",
    "\n",
    "Implementujte techniku bezešvého skládání obrazů v gradientní oblasti. Pro výpočet výsledného lineárního systému použijte iterativní metodu Gauss-Seidel. Demonstrujte funkčnost výsledné implementace na příkladě složení dvou snímků se znatelně odlišnou úrovní expozice."
   ]
  },
  {
   "cell_type": "code",
   "execution_count": null,
   "id": "hybrid-booking",
   "metadata": {},
   "outputs": [],
   "source": [
    "import scipy\n",
    "import numpy as np\n",
    "import matplotlib.pyplot as plt\n",
    "from tqdm import trange\n",
    "from dzotools.utils import imgload, arr2img\n",
    "from IPython.display import clear_output\n",
    "\n",
    "background = imgload('data/blending/windows_normal.png', convert=\"L\") / 256.0\n",
    "foreground = imgload('data/blending/windows_dark.png', convert=\"L\") / 256.0\n",
    "\n",
    "# Load the mask and binarize it to 0, 1 and invert\n",
    "mask = imgload('data/blending/windows_mask.png', convert=\"L\")\n",
    "mask = 1 - np.round(mask / 256).astype(int)"
   ]
  },
  {
   "cell_type": "markdown",
   "id": "isolated-preference",
   "metadata": {},
   "source": [
    "### Sparse Matrix\n",
    "In order to save space (the $A$ matrix could be actually $n^4$ large where $n$ is the image width) we will implement our own sparse matrix implementation along with a numpy dot product."
   ]
  },
  {
   "cell_type": "code",
   "execution_count": null,
   "id": "middle-aruba",
   "metadata": {},
   "outputs": [],
   "source": [
    "# exports\n",
    "class SparseMatrix:\n",
    "    def __init__(self, heigth, width):\n",
    "        self.heigth, self.width = heigth, width\n",
    "        \n",
    "        # Working memory to speed up reallocation\n",
    "        self.out = np.zeros(width, dtype=\"float32\")        \n",
    "        self.rows = {\n",
    "            r: {} for r in range(heigth)\n",
    "        }\n",
    "        \n",
    "    @property\n",
    "    def shape(self):\n",
    "        return (self.heigth, self.width)\n",
    "        \n",
    "    def __getitem__(self, location):\n",
    "        \"\"\"Get the value or default to zero.\"\"\"\n",
    "        y, x = location\n",
    "        \n",
    "        return self.rows[y].get(x, 0)\n",
    "    \n",
    "    def __setitem__(self, location, value):\n",
    "        \"\"\"Set the value in a sparse format.\"\"\"\n",
    "        y, x = location\n",
    "        \n",
    "        row = self.rows[y]\n",
    "        if x in row and row[x] != value:\n",
    "            print(f\"Overwriting row/col {y}/{x} value from {row[x]} to {value}!\")\n",
    "        \n",
    "        self.rows[y][x] = value\n",
    "        \n",
    "    __array_priority__ = 10000\n",
    "        \n",
    "    def __mul__(self, x: np.array) -> np.array:\n",
    "        \"\"\"Multiplication with a numpy array. Could perhaps be faster?\"\"\"\n",
    "        self.out = np.zeros_like(self.out, dtype=\"float32\")\n",
    "        for y, row in self.rows.items():            \n",
    "            k = np.fromiter(row.keys(), dtype=\"int32\")\n",
    "            v = np.fromiter(row.values(), dtype=\"float32\")\n",
    "            self.out[y] = np.dot(x.take(k), v)\n",
    "            \n",
    "        return self.out"
   ]
  },
  {
   "cell_type": "code",
   "execution_count": null,
   "id": "subtle-reference",
   "metadata": {},
   "outputs": [],
   "source": [
    "s = SparseMatrix(2, 2)\n",
    "s[0, 0] = 2\n",
    "\n",
    "assert s[0, 0] == 2\n",
    "assert s[1, 1] == 0\n",
    "\n",
    "assert s.shape == (2, 2)\n",
    "\n",
    "np.testing.assert_array_equal(\n",
    "    s * np.array([1, 1]), \n",
    "    np.array([2., 0.])\n",
    ")"
   ]
  },
  {
   "cell_type": "markdown",
   "id": "floating-bolivia",
   "metadata": {},
   "source": [
    "### NDArray Edge Wrapping"
   ]
  },
  {
   "cell_type": "code",
   "execution_count": null,
   "id": "closing-adventure",
   "metadata": {},
   "outputs": [],
   "source": [
    "class WrappedNdArray:\n",
    "    \"\"\"Wraps an ndarray and only returns value if within bounds.\"\"\"\n",
    "    def __init__(self, array: np.ndarray):\n",
    "        assert len(array.shape) == 2, \\\n",
    "            \"Only 2D arrays are supported.\"\n",
    "        self.array = array\n",
    "        \n",
    "    def __getitem__(self, location):\n",
    "        if 0 <= location[0] < self.array.shape[0] and 0 <= location[1] < self.array.shape[1]:\n",
    "            return self.array[location]\n",
    "        return 0\n",
    "        \n",
    "    def __setitem__(self, location, value):\n",
    "        if 0 <= location[0] < self.array.shape[0] and 0 <= location[1] < self.array.shape[1]:\n",
    "            self.array[location] = value"
   ]
  },
  {
   "cell_type": "code",
   "execution_count": null,
   "id": "martial-infection",
   "metadata": {},
   "outputs": [],
   "source": [
    "arr = np.array([[1, 2, 3], [2, 3, 4]])\n",
    "wrapped = WrappedNdArray(arr)\n",
    "assert wrapped[10, 0] == 0"
   ]
  },
  {
   "cell_type": "markdown",
   "id": "measured-reality",
   "metadata": {},
   "source": [
    "### Initialize the matrixes\n",
    "Initialize the sparse matrix $A$, and vectors $b$ and $x$ (also called $I$ in lecture notes). The target vector $x$ is initialized as zeros."
   ]
  },
  {
   "cell_type": "code",
   "execution_count": null,
   "id": "sealed-precipitation",
   "metadata": {},
   "outputs": [],
   "source": [
    "def prepare_data(mask, foreground, background):\n",
    "    h, w = mask.shape\n",
    "    pixel_count = w * h\n",
    "    \n",
    "    A = SparseMatrix(pixel_count, pixel_count)\n",
    "    b = np.zeros_like(mask, dtype=\"float32\")\n",
    "    \n",
    "    _foreground = WrappedNdArray(foreground)\n",
    "    _background = WrappedNdArray(background)\n",
    "    _A = WrappedNdArray(A)\n",
    "    \n",
    "    for y in range(h):\n",
    "        for x in range(w):\n",
    "            px = y * w + x\n",
    "            \n",
    "            if mask[y, x] > 0.5:\n",
    "                _A[px, px] = 4\n",
    "                _A[px, px-1] = -1\n",
    "                _A[px, px+1] = -1\n",
    "                _A[px-1, px] = -1\n",
    "                _A[px+1, px] = -1\n",
    "                b[y, x] = sum([\n",
    "                    _foreground[y, x] - _foreground[y+1, x],\n",
    "                    _foreground[y, x] - _foreground[y-1, x],\n",
    "                    _foreground[y, x] - _foreground[y, x+1],\n",
    "                    _foreground[y, x] - _foreground[y, x-1]\n",
    "                ])\n",
    "            else:\n",
    "                _A[px, px] = 1\n",
    "                b[y, x] = _background[y, x]\n",
    "                \n",
    "    return A, b"
   ]
  },
  {
   "cell_type": "code",
   "execution_count": null,
   "id": "threatened-power",
   "metadata": {},
   "outputs": [],
   "source": [
    "A, b = prepare_data(mask, foreground, background)"
   ]
  },
  {
   "cell_type": "raw",
   "id": "desperate-annual",
   "metadata": {},
   "source": [
    "b = b.flatten(order=\"C\")"
   ]
  },
  {
   "cell_type": "code",
   "execution_count": null,
   "id": "arabic-latter",
   "metadata": {},
   "outputs": [
    {
     "data": {
      "image/png": "[encoded data removed]",
      "text/plain": [
       "<Figure size 432x288 with 1 Axes>"
      ]
     },
     "metadata": {
      "needs_background": "light"
     },
     "output_type": "display_data"
    }
   ],
   "source": [
    "b_reshaped = np.reshape(b, mask.shape)\n",
    "plt.imshow(b_reshaped, vmin=0, vmax=1, cmap='gray')\n",
    "plt.show()"
   ]
  },
  {
   "cell_type": "markdown",
   "id": "subjective-thumb",
   "metadata": {},
   "source": [
    "### Gauss-Seidel Update"
   ]
  },
  {
   "cell_type": "code",
   "execution_count": null,
   "id": "processed-reunion",
   "metadata": {},
   "outputs": [
    {
     "name": "stderr",
     "output_type": "stream",
     "text": [
      "  6%|▌         | 58/1000 [01:10<18:58,  1.21s/it]\n"
     ]
    },
    {
     "ename": "KeyboardInterrupt",
     "evalue": "",
     "output_type": "error",
     "traceback": [
      "\u001b[0;31m---------------------------------------------------------------------------\u001b[0m",
      "\u001b[0;31mKeyboardInterrupt\u001b[0m                         Traceback (most recent call last)",
      "\u001b[0;32m<ipython-input-40-5c6bf825fad3>\u001b[0m in \u001b[0;36m<module>\u001b[0;34m\u001b[0m\n\u001b[1;32m      8\u001b[0m     \u001b[0;32mfor\u001b[0m \u001b[0my\u001b[0m \u001b[0;32min\u001b[0m \u001b[0mrange\u001b[0m\u001b[0;34m(\u001b[0m\u001b[0mh\u001b[0m\u001b[0;34m)\u001b[0m\u001b[0;34m:\u001b[0m\u001b[0;34m\u001b[0m\u001b[0;34m\u001b[0m\u001b[0m\n\u001b[1;32m      9\u001b[0m         \u001b[0;32mfor\u001b[0m \u001b[0mx\u001b[0m \u001b[0;32min\u001b[0m \u001b[0mrange\u001b[0m\u001b[0;34m(\u001b[0m\u001b[0mw\u001b[0m\u001b[0;34m)\u001b[0m\u001b[0;34m:\u001b[0m\u001b[0;34m\u001b[0m\u001b[0;34m\u001b[0m\u001b[0m\n\u001b[0;32m---> 10\u001b[0;31m             \u001b[0mnx\u001b[0m\u001b[0;34m[\u001b[0m\u001b[0my\u001b[0m\u001b[0;34m,\u001b[0m \u001b[0mx\u001b[0m\u001b[0;34m]\u001b[0m \u001b[0;34m=\u001b[0m \u001b[0;36m0.25\u001b[0m\u001b[0;34m*\u001b[0m\u001b[0;34m(\u001b[0m\u001b[0mox\u001b[0m\u001b[0;34m[\u001b[0m\u001b[0my\u001b[0m\u001b[0;34m-\u001b[0m\u001b[0;36m1\u001b[0m\u001b[0;34m,\u001b[0m \u001b[0mx\u001b[0m\u001b[0;34m]\u001b[0m \u001b[0;34m+\u001b[0m \u001b[0mox\u001b[0m\u001b[0;34m[\u001b[0m\u001b[0my\u001b[0m\u001b[0;34m+\u001b[0m\u001b[0;36m1\u001b[0m\u001b[0;34m,\u001b[0m \u001b[0mx\u001b[0m\u001b[0;34m]\u001b[0m \u001b[0;34m+\u001b[0m \u001b[0mox\u001b[0m\u001b[0;34m[\u001b[0m\u001b[0my\u001b[0m\u001b[0;34m,\u001b[0m \u001b[0mx\u001b[0m\u001b[0;34m-\u001b[0m\u001b[0;36m1\u001b[0m\u001b[0;34m]\u001b[0m \u001b[0;34m+\u001b[0m \u001b[0mox\u001b[0m\u001b[0;34m[\u001b[0m\u001b[0my\u001b[0m\u001b[0;34m,\u001b[0m \u001b[0mx\u001b[0m\u001b[0;34m+\u001b[0m\u001b[0;36m1\u001b[0m\u001b[0;34m]\u001b[0m \u001b[0;34m-\u001b[0m \u001b[0mb\u001b[0m\u001b[0;34m[\u001b[0m\u001b[0my\u001b[0m\u001b[0;34m,\u001b[0m \u001b[0mx\u001b[0m\u001b[0;34m]\u001b[0m\u001b[0;34m)\u001b[0m\u001b[0;34m\u001b[0m\u001b[0;34m\u001b[0m\u001b[0m\n\u001b[0m\u001b[1;32m     11\u001b[0m \u001b[0;34m\u001b[0m\u001b[0m\n\u001b[1;32m     12\u001b[0m     \u001b[0mox\u001b[0m\u001b[0;34m.\u001b[0m\u001b[0marray\u001b[0m \u001b[0;34m=\u001b[0m \u001b[0mnx\u001b[0m\u001b[0;34m\u001b[0m\u001b[0;34m\u001b[0m\u001b[0m\n",
      "\u001b[0;31mKeyboardInterrupt\u001b[0m: "
     ]
    }
   ],
   "source": [
    "ox = WrappedNdArray(background)\n",
    "w, h = mask.shape\n",
    "\n",
    "for step in trange(1000):\n",
    "    clear_output(wait=True)\n",
    "    nx = np.empty_like(b)\n",
    "    \n",
    "    for y in range(h):\n",
    "        for x in range(w):\n",
    "            nx[y, x] = 0.25*(ox[y-1, x] + ox[y+1, x] + ox[y, x-1] + ox[y, x+1] - b[y, x])\n",
    "    \n",
    "    ox.array = nx\n",
    "    \n",
    "    img = np.reshape(nx, mask.shape)\n",
    "    plt.imshow(img, vmin=0, vmax=1, cmap='gray')\n",
    "    plt.show()"
   ]
  },
  {
   "cell_type": "raw",
   "id": "eastern-violence",
   "metadata": {},
   "source": [
    "from IPython.display import clear_output\n",
    "\n",
    "results = {}\n",
    "x = background.flatten()\n",
    "\n",
    "for step in trange(100):\n",
    "    clear_output(wait=True)\n",
    "    x = 1/4*(b-A*x)\n",
    "    \n",
    "    img = np.reshape(x, mask.shape)\n",
    "    plt.imshow(img, vmin=0, vmax=1, cmap='gray')\n",
    "    plt.show()"
   ]
  },
  {
   "cell_type": "markdown",
   "id": "starting-culture",
   "metadata": {},
   "source": [
    "### Conjugate Gradient Update"
   ]
  },
  {
   "cell_type": "code",
   "execution_count": null,
   "id": "animal-beverage",
   "metadata": {},
   "outputs": [],
   "source": [
    "def conjugate_gradient_update(A, x, b, mult=1):\n",
    "    grad = b - A*x\n",
    "    alpha = np.linalg.norm(grad)/(grad@(A*grad))\n",
    "    return x + (alpha * mult) * grad"
   ]
  },
  {
   "cell_type": "code",
   "execution_count": null,
   "id": "empty-superior",
   "metadata": {},
   "outputs": [
    {
     "name": "stderr",
     "output_type": "stream",
     "text": [
      " 60%|██████    | 60/100 [01:49<01:13,  1.83s/it]\n"
     ]
    },
    {
     "ename": "KeyboardInterrupt",
     "evalue": "",
     "output_type": "error",
     "traceback": [
      "\u001b[0;31m---------------------------------------------------------------------------\u001b[0m",
      "\u001b[0;31mKeyboardInterrupt\u001b[0m                         Traceback (most recent call last)",
      "\u001b[0;32m<ipython-input-14-f6d6525492ec>\u001b[0m in \u001b[0;36m<module>\u001b[0;34m\u001b[0m\n\u001b[1;32m      6\u001b[0m \u001b[0;32mfor\u001b[0m \u001b[0mstep\u001b[0m \u001b[0;32min\u001b[0m \u001b[0mtrange\u001b[0m\u001b[0;34m(\u001b[0m\u001b[0;36m100\u001b[0m\u001b[0;34m)\u001b[0m\u001b[0;34m:\u001b[0m\u001b[0;34m\u001b[0m\u001b[0;34m\u001b[0m\u001b[0m\n\u001b[1;32m      7\u001b[0m     \u001b[0mclear_output\u001b[0m\u001b[0;34m(\u001b[0m\u001b[0mwait\u001b[0m\u001b[0;34m=\u001b[0m\u001b[0;32mTrue\u001b[0m\u001b[0;34m)\u001b[0m\u001b[0;34m\u001b[0m\u001b[0;34m\u001b[0m\u001b[0m\n\u001b[0;32m----> 8\u001b[0;31m     \u001b[0mx\u001b[0m \u001b[0;34m=\u001b[0m \u001b[0mconjugate_gradient_update\u001b[0m\u001b[0;34m(\u001b[0m\u001b[0mA\u001b[0m\u001b[0;34m,\u001b[0m \u001b[0mx\u001b[0m\u001b[0;34m,\u001b[0m \u001b[0mb\u001b[0m\u001b[0;34m)\u001b[0m\u001b[0;34m\u001b[0m\u001b[0;34m\u001b[0m\u001b[0m\n\u001b[0m\u001b[1;32m      9\u001b[0m \u001b[0;34m\u001b[0m\u001b[0m\n\u001b[1;32m     10\u001b[0m     \u001b[0mimg\u001b[0m \u001b[0;34m=\u001b[0m \u001b[0mnp\u001b[0m\u001b[0;34m.\u001b[0m\u001b[0mreshape\u001b[0m\u001b[0;34m(\u001b[0m\u001b[0mx\u001b[0m\u001b[0;34m,\u001b[0m \u001b[0mmask\u001b[0m\u001b[0;34m.\u001b[0m\u001b[0mshape\u001b[0m\u001b[0;34m)\u001b[0m\u001b[0;34m\u001b[0m\u001b[0;34m\u001b[0m\u001b[0m\n",
      "\u001b[0;32m<ipython-input-10-8241478774eb>\u001b[0m in \u001b[0;36mconjugate_gradient_update\u001b[0;34m(A, x, b, mult)\u001b[0m\n\u001b[1;32m      1\u001b[0m \u001b[0;32mdef\u001b[0m \u001b[0mconjugate_gradient_update\u001b[0m\u001b[0;34m(\u001b[0m\u001b[0mA\u001b[0m\u001b[0;34m,\u001b[0m \u001b[0mx\u001b[0m\u001b[0;34m,\u001b[0m \u001b[0mb\u001b[0m\u001b[0;34m,\u001b[0m \u001b[0mmult\u001b[0m\u001b[0;34m=\u001b[0m\u001b[0;36m1\u001b[0m\u001b[0;34m)\u001b[0m\u001b[0;34m:\u001b[0m\u001b[0;34m\u001b[0m\u001b[0;34m\u001b[0m\u001b[0m\n\u001b[1;32m      2\u001b[0m     \u001b[0mgrad\u001b[0m \u001b[0;34m=\u001b[0m \u001b[0mb\u001b[0m \u001b[0;34m-\u001b[0m \u001b[0mA\u001b[0m\u001b[0;34m*\u001b[0m\u001b[0mx\u001b[0m\u001b[0;34m\u001b[0m\u001b[0;34m\u001b[0m\u001b[0m\n\u001b[0;32m----> 3\u001b[0;31m     \u001b[0malpha\u001b[0m \u001b[0;34m=\u001b[0m \u001b[0mnp\u001b[0m\u001b[0;34m.\u001b[0m\u001b[0mlinalg\u001b[0m\u001b[0;34m.\u001b[0m\u001b[0mnorm\u001b[0m\u001b[0;34m(\u001b[0m\u001b[0mgrad\u001b[0m\u001b[0;34m)\u001b[0m\u001b[0;34m/\u001b[0m\u001b[0;34m(\u001b[0m\u001b[0mgrad\u001b[0m\u001b[0;34m@\u001b[0m\u001b[0;34m(\u001b[0m\u001b[0mA\u001b[0m\u001b[0;34m*\u001b[0m\u001b[0mgrad\u001b[0m\u001b[0;34m)\u001b[0m\u001b[0;34m)\u001b[0m\u001b[0;34m\u001b[0m\u001b[0;34m\u001b[0m\u001b[0m\n\u001b[0m\u001b[1;32m      4\u001b[0m     \u001b[0;32mreturn\u001b[0m \u001b[0mx\u001b[0m \u001b[0;34m+\u001b[0m \u001b[0malpha\u001b[0m \u001b[0;34m*\u001b[0m \u001b[0mmult\u001b[0m \u001b[0;34m*\u001b[0m \u001b[0mgrad\u001b[0m\u001b[0;34m\u001b[0m\u001b[0;34m\u001b[0m\u001b[0m\n",
      "\u001b[0;32m<ipython-input-3-aae5d897e8c0>\u001b[0m in \u001b[0;36m__mul__\u001b[0;34m(self, x)\u001b[0m\n\u001b[1;32m     38\u001b[0m             \u001b[0mk\u001b[0m \u001b[0;34m=\u001b[0m \u001b[0mnp\u001b[0m\u001b[0;34m.\u001b[0m\u001b[0mfromiter\u001b[0m\u001b[0;34m(\u001b[0m\u001b[0mrow\u001b[0m\u001b[0;34m.\u001b[0m\u001b[0mkeys\u001b[0m\u001b[0;34m(\u001b[0m\u001b[0;34m)\u001b[0m\u001b[0;34m,\u001b[0m \u001b[0mdtype\u001b[0m\u001b[0;34m=\u001b[0m\u001b[0;34m\"int32\"\u001b[0m\u001b[0;34m)\u001b[0m\u001b[0;34m\u001b[0m\u001b[0;34m\u001b[0m\u001b[0m\n\u001b[1;32m     39\u001b[0m             \u001b[0mv\u001b[0m \u001b[0;34m=\u001b[0m \u001b[0mnp\u001b[0m\u001b[0;34m.\u001b[0m\u001b[0mfromiter\u001b[0m\u001b[0;34m(\u001b[0m\u001b[0mrow\u001b[0m\u001b[0;34m.\u001b[0m\u001b[0mvalues\u001b[0m\u001b[0;34m(\u001b[0m\u001b[0;34m)\u001b[0m\u001b[0;34m,\u001b[0m \u001b[0mdtype\u001b[0m\u001b[0;34m=\u001b[0m\u001b[0;34m\"float32\"\u001b[0m\u001b[0;34m)\u001b[0m\u001b[0;34m\u001b[0m\u001b[0;34m\u001b[0m\u001b[0m\n\u001b[0;32m---> 40\u001b[0;31m             \u001b[0mself\u001b[0m\u001b[0;34m.\u001b[0m\u001b[0mout\u001b[0m\u001b[0;34m[\u001b[0m\u001b[0my\u001b[0m\u001b[0;34m]\u001b[0m \u001b[0;34m=\u001b[0m \u001b[0mnp\u001b[0m\u001b[0;34m.\u001b[0m\u001b[0mdot\u001b[0m\u001b[0;34m(\u001b[0m\u001b[0mx\u001b[0m\u001b[0;34m.\u001b[0m\u001b[0mtake\u001b[0m\u001b[0;34m(\u001b[0m\u001b[0mk\u001b[0m\u001b[0;34m)\u001b[0m\u001b[0;34m,\u001b[0m \u001b[0mv\u001b[0m\u001b[0;34m)\u001b[0m\u001b[0;34m\u001b[0m\u001b[0;34m\u001b[0m\u001b[0m\n\u001b[0m\u001b[1;32m     41\u001b[0m \u001b[0;34m\u001b[0m\u001b[0m\n\u001b[1;32m     42\u001b[0m         \u001b[0;32mreturn\u001b[0m \u001b[0mself\u001b[0m\u001b[0;34m.\u001b[0m\u001b[0mout\u001b[0m\u001b[0;34m\u001b[0m\u001b[0;34m\u001b[0m\u001b[0m\n",
      "\u001b[0;31mKeyboardInterrupt\u001b[0m: "
     ]
    }
   ],
   "source": [
    "from IPython.display import clear_output\n",
    "\n",
    "results = {}\n",
    "x = foreground.flatten()\n",
    "\n",
    "for step in trange(100):\n",
    "    clear_output(wait=True)\n",
    "    x = conjugate_gradient_update(A, x, b)\n",
    "    \n",
    "    # Show the image in the Jupyter Notebook\n",
    "    img = np.reshape(x, mask.shape)\n",
    "    plt.imshow(img, vmin=0, vmax=1, cmap='gray')\n",
    "    plt.show()"
   ]
  }
 ],
 "metadata": {
  "kernelspec": {
   "display_name": "Python 3",
   "language": "python",
   "name": "python3"
  }
 },
 "nbformat": 4,
 "nbformat_minor": 5
}
