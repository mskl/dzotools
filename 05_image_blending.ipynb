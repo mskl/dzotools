{
 "cells": [
  {
   "cell_type": "code",
   "execution_count": null,
   "id": "bacterial-facial",
   "metadata": {},
   "outputs": [],
   "source": [
    "# default_exp image_blending"
   ]
  },
  {
   "cell_type": "markdown",
   "id": "endangered-poetry",
   "metadata": {},
   "source": [
    "# Image Blending"
   ]
  },
  {
   "cell_type": "markdown",
   "id": "personalized-profit",
   "metadata": {},
   "source": [
    "# Task 5: Image blending in gradient area\n",
    "> whatisit\n",
    "\n",
    "Implementujte techniku bezešvého skládání obrazů v gradientní oblasti. Pro výpočet výsledného lineárního systému použijte iterativní metodu Gauss-Seidel. Demonstrujte funkčnost výsledné implementace na příkladě složení dvou snímků se znatelně odlišnou úrovní expozice."
   ]
  },
  {
   "cell_type": "markdown",
   "id": "spoken-import",
   "metadata": {},
   "source": [
    "### Gauss Seidel Solver"
   ]
  },
  {
   "cell_type": "code",
   "execution_count": null,
   "id": "classical-russell",
   "metadata": {},
   "outputs": [],
   "source": [
    "# exports\n",
    "import numpy as np\n",
    "\n",
    "\n",
    "class Solver:\n",
    "    def __init__(self, A, b):\n",
    "        self.A = A\n",
    "        self.b = b\n",
    "        \n",
    "    def relative_accuracy(self, x):\n",
    "        \"\"\"Calculate the L2 norm of the residuals and divide by L2 of b\"\"\"\n",
    "        return np.linalg.norm(self.A@x - self.b) /  np.linalg.norm(b)\n",
    "    \n",
    "    @property\n",
    "    def L(self):\n",
    "        \"\"\"Get the lower triangular part of matrix A\"\"\"\n",
    "        return np.tril(self.A, k=-1)\n",
    "    \n",
    "    @property\n",
    "    def D(self):\n",
    "        \"\"\"Create a zero matrix with elements on the diagonal\"\"\"\n",
    "        return np.diag(np.diag(self.A))\n",
    "        \n",
    "    def _solve(self, Q):\n",
    "        \"\"\"Solve the Ax=b using a given matrix Q\"\"\"\n",
    "        xk = np.zeros(len(self.b))\n",
    "\n",
    "        # Maximum number of iterations is limited\n",
    "        for i in range(1, 10**4):\n",
    "            xk = np.linalg.inv(Q) @ ((Q-self.A) @ xk + self.b)\n",
    "            \n",
    "            if self.relative_accuracy(xk) < 10**-6:\n",
    "                return i, xk\n",
    "            \n",
    "        raise LinAlgError(\"Solution did not converge\")\n",
    "        \n",
    "    def solve_jacobi(self):\n",
    "        Q = self.D\n",
    "        return self._solve(Q)\n",
    "    \n",
    "    def solve_gauss_seidel(self):\n",
    "        Q = self.D + self.L\n",
    "        return self._solve(Q)"
   ]
  },
  {
   "cell_type": "code",
   "execution_count": null,
   "id": "exotic-grenada",
   "metadata": {},
   "outputs": [],
   "source": []
  }
 ],
 "metadata": {
  "kernelspec": {
   "display_name": "Python 3",
   "language": "python",
   "name": "python3"
  }
 },
 "nbformat": 4,
 "nbformat_minor": 5
}
