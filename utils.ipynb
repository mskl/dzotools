{
 "cells": [
  {
   "cell_type": "code",
   "execution_count": null,
   "id": "delayed-software",
   "metadata": {},
   "outputs": [],
   "source": [
    "# default_exp utils"
   ]
  },
  {
   "cell_type": "code",
   "execution_count": null,
   "id": "confident-scientist",
   "metadata": {},
   "outputs": [],
   "source": [
    "# export\n",
    "import numpy as np\n",
    "import matplotlib.pyplot as plt\n",
    "from PIL import Image\n",
    "from collections import Counter"
   ]
  },
  {
   "cell_type": "markdown",
   "id": "requested-machine",
   "metadata": {},
   "source": [
    "### Load the image"
   ]
  },
  {
   "cell_type": "code",
   "execution_count": null,
   "id": "impossible-burden",
   "metadata": {},
   "outputs": [],
   "source": [
    "# export\n",
    "def imgload(path: str = \"data/lenna.png\", convert: str = None) -> np.array:\n",
    "    \"\"\"Load the image at given path and convert it to numpy ndarray.\"\"\"\n",
    "    img = Image.open(path)\n",
    "    \n",
    "    if convert:\n",
    "        img = img.convert(convert)\n",
    "        \n",
    "    return np.asarray(img, dtype=\"int32\")"
   ]
  },
  {
   "cell_type": "markdown",
   "id": "authorized-pendant",
   "metadata": {},
   "source": [
    "### Array tools"
   ]
  },
  {
   "cell_type": "code",
   "execution_count": null,
   "id": "ethical-volleyball",
   "metadata": {},
   "outputs": [],
   "source": [
    "# export\n",
    "def arr2img(arr: np.array) -> Image:\n",
    "    \"\"\"Convert the PIL.Image to numpy array.\"\"\"\n",
    "    return Image.fromarray(arr.astype(\"uint8\"))"
   ]
  },
  {
   "cell_type": "code",
   "execution_count": null,
   "id": "threatened-progressive",
   "metadata": {},
   "outputs": [],
   "source": [
    "# export\n",
    "def clipvals(arr: np.array) -> np.array:\n",
    "    \"\"\"Clip the values to ve within the range of 1 byte.\"\"\"\n",
    "    # Equivalent to np.minimum(a_max, np.maximum(a, a_min))\n",
    "    return np.clip(arr, 0, 255)"
   ]
  },
  {
   "cell_type": "markdown",
   "id": "linear-fields",
   "metadata": {},
   "source": [
    "### Plotting utils"
   ]
  },
  {
   "cell_type": "code",
   "execution_count": null,
   "id": "excess-transcript",
   "metadata": {},
   "outputs": [],
   "source": [
    "# export\n",
    "def plot_hist(arr: np.array):    \n",
    "    \"\"\"Plot histogram over pixel intensities.\"\"\"\n",
    "    ctr = Counter(arr.flatten())\n",
    "    histdict = {k: ctr[k] for k in range(256)}\n",
    "    \n",
    "    fig, ax = plt.subplots()\n",
    "    ax.bar(histdict.keys(), histdict.values())\n",
    "    ax.set_xlabel(\"pixel value\")\n",
    "    ax.set_ylabel(\"value count\")\n",
    "    ax.set_title(\"Histogram (pixel brightness frequencies)\")\n",
    "    plt.tight_layout()\n",
    "    return fig, ax"
   ]
  },
  {
   "cell_type": "code",
   "execution_count": null,
   "id": "studied-lindsay",
   "metadata": {},
   "outputs": [],
   "source": [
    "# export\n",
    "def plot_cdf(arr: np.array):\n",
    "    \"\"\"Plot cumulative dictribution function over pixel intensities.\"\"\"\n",
    "    nctr = Counter(arr.flatten())\n",
    "    ndict = dict(sorted(nctr.items(), key=lambda x: x[0]))\n",
    "    cdict = dict(zip(ndict.keys(), np.cumsum(list(ndict.values()))))\n",
    "\n",
    "    fig, ax = plt.subplots()\n",
    "    ax.plot(cdict.keys(), cdict.values())\n",
    "    ax.set_title(\"CDF (cumulative densities of pixel brightness values)\")\n",
    "    plt.tight_layout()\n",
    "    return fig, ax"
   ]
  }
 ],
 "metadata": {
  "kernelspec": {
   "display_name": "Python 3",
   "language": "python",
   "name": "python3"
  }
 },
 "nbformat": 4,
 "nbformat_minor": 5
}
